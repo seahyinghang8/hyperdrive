{
 "cells": [
  {
   "cell_type": "code",
   "execution_count": 1,
   "metadata": {
    "scrolled": true
   },
   "outputs": [],
   "source": [
    "import sys\n",
    "import os\n",
    "import importlib\n",
    "sys.path.append('..')\n",
    "\n",
    "import utils\n",
    "from utils.dataloader import Dataloader\n",
    "from utils.extract import extract_fields\n",
    "from utils.rule_gen import generate_query\n",
    "from utils.evaluator import evaluate_output\n",
    "from utils.helpers import extracted_fields_serialized\n",
    "\n",
    "from ipywidgets import Layout\n",
    "import hyperwidget"
   ]
  },
  {
   "cell_type": "code",
   "execution_count": 2,
   "metadata": {
    "scrolled": true
   },
   "outputs": [],
   "source": [
    "def get_dataloader():\n",
    "    w2_sample_dir = os.path.join('../data', 'sample', 'w2')\n",
    "    data_dir = os.path.join(w2_sample_dir, 'single_clean')\n",
    "    label_path = os.path.join(w2_sample_dir, 'single_label.csv')\n",
    "    return Dataloader(data_dir, label_path)\n",
    "\n",
    "dl = get_dataloader()"
   ]
  },
  {
   "cell_type": "code",
   "execution_count": null,
   "metadata": {},
   "outputs": [],
   "source": [
    "field_queries = [\n",
    "    {   # Field 1\n",
    "        \"name\": \"EIN\",\n",
    "        \"arguments\": {\n",
    "            \"x-position\": 0.1,\n",
    "            \"y-position\": 0.1,\n",
    "            \"entity\": \"EIN\",\n",
    "            \"word-neighbors\": [\"Employer\", \"Identification\", \"Number\"],\n",
    "            \"word-neighbor-top-thres\": 0.05,\n",
    "            \"word-neighbor-left-thres\": 0.1,\n",
    "        },\n",
    "        \"weights\": {\n",
    "            \"x-position\": 0.25,\n",
    "            \"y-position\": 0.25,\n",
    "            \"entity\": 0.25,\n",
    "            \"word-neighbors\": 0.25,\n",
    "        }\n",
    "    },\n",
    "    {   # Field 2\n",
    "        \"name\": \"Medicare Tax withheld\",\n",
    "        \"arguments\": {\n",
    "            \"x-position\": 0.9,\n",
    "            \"y-position\": 0.1,\n",
    "            \"entity\": \"CARDINAL\",\n",
    "            \"word-neighbors\": [\"Medicare\", \"Tax\", \"Withheld\"],\n",
    "            \"word-neighbor-top-thres\": 0.05,\n",
    "            \"word-neighbor-left-thres\": 0.1,\n",
    "        },\n",
    "        \"weights\": {\n",
    "            \"x-position\": 0.25,\n",
    "            \"y-position\": 0.25,\n",
    "            \"entity\": 0.25,\n",
    "            \"word-neighbors\": 0.25,\n",
    "        }\n",
    "    }\n",
    "]"
   ]
  },
  {
   "cell_type": "code",
   "execution_count": null,
   "metadata": {},
   "outputs": [],
   "source": [
    "num_docs = len(dl)\n",
    "\n",
    "extracted_fields = [\n",
    "    extract_fields(dl.get_document(i), field_queries, 1000)\n",
    "    for i in range(num_docs)\n",
    "]\n",
    "labels = [dl.get_label(i) for i in range(num_docs)]"
   ]
  },
  {
   "cell_type": "code",
   "execution_count": null,
   "metadata": {},
   "outputs": [],
   "source": [
    "errors = evaluate_output(extracted_fields, labels, ['EIN', 'Medicare Tax withheld'])"
   ]
  },
  {
   "cell_type": "code",
   "execution_count": null,
   "metadata": {},
   "outputs": [],
   "source": [
    "error_table = hyperwidget.ErrorTable(\n",
    "    errors = errors\n",
    ")"
   ]
  },
  {
   "cell_type": "code",
   "execution_count": null,
   "metadata": {},
   "outputs": [],
   "source": [
    "extraction_heatmap = hyperwidget.ExtractionHeatmap(\n",
    "    documents=[dl.get_document(i).as_dict_with_images() for i in range(num_docs)],\n",
    "    labels=[dl.get_label(i) for i in range(num_docs)],\n",
    "    extracted_fields=extracted_fields_serialized(extracted_fields)\n",
    ")"
   ]
  },
  {
   "cell_type": "code",
   "execution_count": null,
   "metadata": {},
   "outputs": [],
   "source": [
    "error_table"
   ]
  },
  {
   "cell_type": "code",
   "execution_count": null,
   "metadata": {},
   "outputs": [],
   "source": [
    "extraction_heatmap"
   ]
  },
  {
   "cell_type": "code",
   "execution_count": null,
   "metadata": {
    "scrolled": true
   },
   "outputs": [],
   "source": [
    "ocr_visualizer = hyperwidget.OCRVisualizer(\n",
    "    document=dl.get_document(0).as_dict_with_images()\n",
    ")"
   ]
  },
  {
   "cell_type": "code",
   "execution_count": null,
   "metadata": {
    "scrolled": false
   },
   "outputs": [],
   "source": [
    "ocr_visualizer"
   ]
  },
  {
   "cell_type": "code",
   "execution_count": null,
   "metadata": {
    "scrolled": true
   },
   "outputs": [],
   "source": [
    "print(\"Chosen Lines: \", [label_page.lines[i] for i in ocr_visualizer.line_idxs])\n",
    "query = generate_query(\"Control number\", [label_page.lines[ocr_visualizer.line_idxs[0]]], [label_page])\n",
    "print(\"Generated Query: \", query)"
   ]
  },
  {
   "cell_type": "code",
   "execution_count": 3,
   "metadata": {},
   "outputs": [],
   "source": [
    "documents = [dl.get_document(i) for i in range(5)]\n",
    "documents_dict = [d.as_dict_with_images() for d in documents]\n",
    "pages = [d.pages[0] for d in documents]\n",
    "multidoc_gen = hyperwidget.MultiDocGen(\n",
    "    documents=documents_dict\n",
    ")"
   ]
  },
  {
   "cell_type": "code",
   "execution_count": 4,
   "metadata": {},
   "outputs": [
    {
     "data": {
      "application/vnd.jupyter.widget-view+json": {
       "model_id": "dff0716ea62641aeb2e1b2fc81a0b2d9",
       "version_major": 2,
       "version_minor": 0
      },
      "text/plain": [
       "MultiDocGen(documents=[{'path': '../data/sample/w2/single_clean/W2_XL_input_1192.pdf', 'pages': [{'lines': [{'…"
      ]
     },
     "metadata": {},
     "output_type": "display_data"
    }
   ],
   "source": [
    "multidoc_gen"
   ]
  },
  {
   "cell_type": "code",
   "execution_count": 7,
   "metadata": {},
   "outputs": [],
   "source": [
    "labeled_pages, labeled_lines = [], []\n",
    "for doc in multidoc_gen.selected_lines:\n",
    "    doc_idx = int(doc)\n",
    "    labeled_pages.append(pages[doc_idx])\n",
    "    labeled_lines.append(pages[doc_idx].lines[multidoc_gen.selected_lines[doc][0]])\n",
    "query = generate_query(\"Control number\", labeled_lines, labeled_pages)"
   ]
  },
  {
   "cell_type": "code",
   "execution_count": 8,
   "metadata": {},
   "outputs": [
    {
     "data": {
      "text/plain": [
       "{'name': 'Control number',\n",
       " 'arguments': {'x-position': 0.8120915032679739,\n",
       "  'y-position': 0.09848484848484848,\n",
       "  'entity': 'CARDINAL',\n",
       "  'word-neighbors': ['Website',\n",
       "   'Social',\n",
       "   'tax',\n",
       "   'Federal',\n",
       "   'withheld',\n",
       "   'the',\n",
       "   'security',\n",
       "   'Medicare',\n",
       "   'www.irs.gov/efile.',\n",
       "   'IRS',\n",
       "   'at',\n",
       "   'Visit',\n",
       "   '2',\n",
       "   '6',\n",
       "   'income',\n",
       "   '4'],\n",
       "  'word-neighbor-top-thres': 0.05,\n",
       "  'word-neighbor-left-thres': 0.1},\n",
       " 'weights': {'x-position': 0.25,\n",
       "  'y-position': 0.25,\n",
       "  'entity': 0.25,\n",
       "  'word-neighbors': 0.25}}"
      ]
     },
     "execution_count": 8,
     "metadata": {},
     "output_type": "execute_result"
    }
   ],
   "source": [
    "query"
   ]
  },
  {
   "cell_type": "code",
   "execution_count": null,
   "metadata": {},
   "outputs": [],
   "source": []
  }
 ],
 "metadata": {
  "kernelspec": {
   "display_name": "Python 3",
   "language": "python",
   "name": "python3"
  },
  "language_info": {
   "codemirror_mode": {
    "name": "ipython",
    "version": 3
   },
   "file_extension": ".py",
   "mimetype": "text/x-python",
   "name": "python",
   "nbconvert_exporter": "python",
   "pygments_lexer": "ipython3",
   "version": "3.7.3"
  }
 },
 "nbformat": 4,
 "nbformat_minor": 4
}
