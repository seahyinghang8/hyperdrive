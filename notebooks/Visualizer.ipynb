{
 "cells": [
  {
   "cell_type": "code",
   "execution_count": 26,
   "metadata": {
    "scrolled": true
   },
   "outputs": [],
   "source": [
    "import sys\n",
    "import os\n",
    "import importlib\n",
    "sys.path.append('..')\n",
    "\n",
    "import utils\n",
    "from utils.dataloader import Dataloader\n",
    "from utils.extract import extract_fields\n",
    "from utils.rule_gen import generate_query\n",
    "from utils.evaluator import evaluate_output\n",
    "from utils.helpers import extracted_fields_serialized\n",
    "\n",
    "import spacy\n",
    "from iterextras import par_for\n",
    "\n",
    "from ipywidgets import Layout\n",
    "import hyperwidget"
   ]
  },
  {
   "cell_type": "code",
   "execution_count": 27,
   "metadata": {
    "scrolled": true
   },
   "outputs": [],
   "source": [
    "def get_dataloader():\n",
    "    w2_sample_dir = os.path.join('../data', 'sample', 'w2')\n",
    "    data_dir = os.path.join(w2_sample_dir, 'multi')\n",
    "    label_path = os.path.join(w2_sample_dir, 'multi_label.csv')\n",
    "    return Dataloader(data_dir, label_path, concatenate_pages=True, cache_to_disk=True)\n",
    "\n",
    "dl = get_dataloader()"
   ]
  },
  {
   "cell_type": "code",
   "execution_count": 28,
   "metadata": {},
   "outputs": [],
   "source": [
    "field_queries = [\n",
    "    {   # Field 1\n",
    "        \"name\": \"EIN\",\n",
    "        \"arguments\": {\n",
    "            \"x-position\": 0.1,\n",
    "            \"y-position\": 0.1,\n",
    "            \"entity\": \"EIN\",\n",
    "            \"word-neighbors\": [\"Employer\", \"Identification\", \"Number\"],\n",
    "            \"word-neighbor-top-thres\": 0.05,\n",
    "            \"word-neighbor-left-thres\": 0.1,\n",
    "        },\n",
    "        \"weights\": {\n",
    "            \"x-position\": 0.25,\n",
    "            \"y-position\": 0.25,\n",
    "            \"entity\": 0.25,\n",
    "            \"word-neighbors\": 0.25,\n",
    "        }\n",
    "    },\n",
    "    {   # Field 2\n",
    "        \"name\": \"Medicare Tax Withheld\",\n",
    "        \"arguments\": {\n",
    "            \"x-position\": 0.9,\n",
    "            \"y-position\": 0.1,\n",
    "            \"entity\": \"CARDINAL\",\n",
    "            \"word-neighbors\": [\"Medicare\", \"Tax\", \"Withheld\"],\n",
    "            \"word-neighbor-top-thres\": 0.05,\n",
    "            \"word-neighbor-left-thres\": 0.1,\n",
    "        },\n",
    "        \"weights\": {\n",
    "            \"x-position\": 0.25,\n",
    "            \"y-position\": 0.25,\n",
    "            \"entity\": 0.25,\n",
    "            \"word-neighbors\": 0.25,\n",
    "        }\n",
    "    }\n",
    "]"
   ]
  },
  {
   "cell_type": "code",
   "execution_count": 29,
   "metadata": {},
   "outputs": [
    {
     "data": {
      "application/vnd.jupyter.widget-view+json": {
       "model_id": "7569fc3d98d24a1f8ac0e83756bf5f7b",
       "version_major": 2,
       "version_minor": 0
      },
      "text/plain": [
       "HBox(children=(HTML(value=''), FloatProgress(value=0.0, max=9.0), HTML(value='')))"
      ]
     },
     "metadata": {},
     "output_type": "display_data"
    },
    {
     "name": "stdout",
     "output_type": "stream",
     "text": [
      "\n"
     ]
    }
   ],
   "source": [
    "num_docs = len(dl)\n",
    "nlp = spacy.load(\"en_core_web_sm\")\n",
    "extracted_fields = par_for(\n",
    "    lambda i:  extract_fields(dl.get_document(i), field_queries, 1000, nlp),\n",
    "    list(range(num_docs)),\n",
    "    workers=2,\n",
    ")\n",
    "labels = [dl.get_label(i) for i in range(num_docs)]"
   ]
  },
  {
   "cell_type": "code",
   "execution_count": 30,
   "metadata": {},
   "outputs": [
    {
     "name": "stdout",
     "output_type": "stream",
     "text": [
      "Field: EIN\tAccuracy: 1.0\n",
      "Field: Medicare Tax withheld\tAccuracy: 1.0\n"
     ]
    }
   ],
   "source": [
    "errors = evaluate_output(extracted_fields, labels, ['EIN', 'Medicare Tax Withheld'])"
   ]
  },
  {
   "cell_type": "code",
   "execution_count": 31,
   "metadata": {},
   "outputs": [],
   "source": [
    "error_table = hyperwidget.ErrorTable(\n",
    "    errors = errors\n",
    ")"
   ]
  },
  {
   "cell_type": "code",
   "execution_count": 32,
   "metadata": {},
   "outputs": [],
   "source": [
    "extraction_heatmap = hyperwidget.ExtractionHeatmap(\n",
    "    documents=[dl.get_document(i).as_dict_with_images() for i in range(num_docs)],\n",
    "    labels=[dl.get_label(i) for i in range(num_docs)],\n",
    "    extracted_fields=extracted_fields_serialized(extracted_fields)\n",
    ")"
   ]
  },
  {
   "cell_type": "code",
   "execution_count": 33,
   "metadata": {},
   "outputs": [
    {
     "data": {
      "application/vnd.jupyter.widget-view+json": {
       "model_id": "88491f09fc9c4193889d2879231d49cb",
       "version_major": 2,
       "version_minor": 0
      },
      "text/plain": [
       "ErrorTable(errors={'EIN': [], 'Medicare Tax withheld': []})"
      ]
     },
     "metadata": {},
     "output_type": "display_data"
    }
   ],
   "source": [
    "error_table"
   ]
  },
  {
   "cell_type": "code",
   "execution_count": 34,
   "metadata": {},
   "outputs": [
    {
     "data": {
      "application/vnd.jupyter.widget-view+json": {
       "model_id": "fc92a998fa574c528e4d63bc20e12735",
       "version_major": 2,
       "version_minor": 0
      },
      "text/plain": [
       "ExtractionHeatmap(documents=[{'path': '../data/sample/w2/single_clean/W2_XL_input_1192.pdf', 'pages': [{'lines…"
      ]
     },
     "metadata": {},
     "output_type": "display_data"
    }
   ],
   "source": [
    "extraction_heatmap"
   ]
  },
  {
   "cell_type": "code",
   "execution_count": 35,
   "metadata": {
    "scrolled": true
   },
   "outputs": [],
   "source": [
    "ocr_visualizer = hyperwidget.OCRVisualizer(\n",
    "    document=dl.get_document(0).as_dict_with_images()\n",
    ")"
   ]
  },
  {
   "cell_type": "code",
   "execution_count": 36,
   "metadata": {
    "scrolled": false
   },
   "outputs": [
    {
     "data": {
      "application/vnd.jupyter.widget-view+json": {
       "model_id": "7f6a2662d9454771bd6eb6a492b0c3ec",
       "version_major": 2,
       "version_minor": 0
      },
      "text/plain": [
       "OCRVisualizer(document={'path': '../data/sample/w2/single_clean/W2_XL_input_1192.pdf', 'pages': [{'lines': [{'…"
      ]
     },
     "metadata": {},
     "output_type": "display_data"
    }
   ],
   "source": [
    "ocr_visualizer"
   ]
  },
  {
   "cell_type": "code",
   "execution_count": 43,
   "metadata": {
    "scrolled": true
   },
   "outputs": [
    {
     "name": "stdout",
     "output_type": "stream",
     "text": [
      "Chosen Lines:  [line(Wage and Tax), line(STATEMENT)]\n",
      "Generated Query:  {'name': 'Control number', 'arguments': {'x-position': 0.19444444444444445, 'y-position': 0.8888888888888888, 'entity': '', 'word-neighbors': ['W-2', 'TX', 'For', 'to', 'RECORDS.', '282-08-755', 'Employee.)', 'IN', '604-70-391', 'C', 'Statement', 'Form', 'Copy', \"EMPLOYEE'S\", 'Notice', 'enclosed', '(See'], 'word-neighbor-top-thres': 0.05, 'word-neighbor-left-thres': 0.1}, 'weights': {'x-position': 0.25, 'y-position': 0.25, 'entity': 0.25, 'word-neighbors': 0.25}}\n"
     ]
    }
   ],
   "source": [
    "label_page = dl.get_document(0).pages[0]\n",
    "print(\"Chosen Lines: \", [label_page.lines[i] for i in ocr_visualizer.selected_lines])\n",
    "query = generate_query(\"Control number\", [label_page.lines[ocr_visualizer.selected_lines[0]]], [label_page])\n",
    "print(\"Generated Query: \", query)"
   ]
  },
  {
   "cell_type": "code",
   "execution_count": 44,
   "metadata": {},
   "outputs": [],
   "source": [
    "documents = [dl.get_document(i) for i in range(5)]\n",
    "documents_dict = [d.as_dict_with_images() for d in documents]\n",
    "pages = [d.pages[0] for d in documents]\n",
    "multidoc_gen = hyperwidget.MultiDocGen(\n",
    "    documents=documents_dict\n",
    ")"
   ]
  },
  {
   "cell_type": "code",
   "execution_count": 45,
   "metadata": {},
   "outputs": [
    {
     "data": {
      "application/vnd.jupyter.widget-view+json": {
       "model_id": "bd9edba25bec4b05b07f2e1b49561604",
       "version_major": 2,
       "version_minor": 0
      },
      "text/plain": [
       "MultiDocGen(documents=[{'path': '../data/sample/w2/single_clean/W2_XL_input_1192.pdf', 'pages': [{'lines': [{'…"
      ]
     },
     "metadata": {},
     "output_type": "display_data"
    }
   ],
   "source": [
    "multidoc_gen"
   ]
  },
  {
   "cell_type": "code",
   "execution_count": 47,
   "metadata": {},
   "outputs": [],
   "source": [
    "labeled_pages, labeled_lines = [], []\n",
    "for doc in multidoc_gen.selected_lines:\n",
    "    doc_idx = int(doc)\n",
    "    labeled_pages.append(pages[doc_idx])\n",
    "    labeled_lines.append(pages[doc_idx].lines[multidoc_gen.selected_lines[doc][0]])\n",
    "query = generate_query(\"Control number\", labeled_lines, labeled_pages)"
   ]
  },
  {
   "cell_type": "code",
   "execution_count": 48,
   "metadata": {},
   "outputs": [
    {
     "data": {
      "text/plain": [
       "{'name': 'Control number',\n",
       " 'arguments': {'x-position': 0.4722222222222222,\n",
       "  'y-position': 0.8712121212121212,\n",
       "  'entity': 'CARDINAL',\n",
       "  'word-neighbors': ['tax', '7991.59', '2010', 'State', 'income', '17'],\n",
       "  'word-neighbor-top-thres': 0.05,\n",
       "  'word-neighbor-left-thres': 0.1},\n",
       " 'weights': {'x-position': 0.25,\n",
       "  'y-position': 0.25,\n",
       "  'entity': 0.25,\n",
       "  'word-neighbors': 0.25}}"
      ]
     },
     "execution_count": 48,
     "metadata": {},
     "output_type": "execute_result"
    }
   ],
   "source": [
    "query"
   ]
  },
  {
   "cell_type": "code",
   "execution_count": null,
   "metadata": {},
   "outputs": [],
   "source": []
  },
  {
   "cell_type": "code",
   "execution_count": null,
   "metadata": {},
   "outputs": [],
   "source": []
  },
  {
   "cell_type": "code",
   "execution_count": null,
   "metadata": {},
   "outputs": [],
   "source": []
  },
  {
   "cell_type": "code",
   "execution_count": null,
   "metadata": {},
   "outputs": [],
   "source": []
  },
  {
   "cell_type": "code",
   "execution_count": null,
   "metadata": {},
   "outputs": [],
   "source": []
  },
  {
   "cell_type": "code",
   "execution_count": null,
   "metadata": {},
   "outputs": [],
   "source": []
  }
 ],
 "metadata": {
  "kernelspec": {
   "display_name": "Python 3",
   "language": "python",
   "name": "python3"
  },
  "language_info": {
   "codemirror_mode": {
    "name": "ipython",
    "version": 3
   },
   "file_extension": ".py",
   "mimetype": "text/x-python",
   "name": "python",
   "nbconvert_exporter": "python",
   "pygments_lexer": "ipython3",
   "version": "3.7.3"
  }
 },
 "nbformat": 4,
 "nbformat_minor": 4
}
