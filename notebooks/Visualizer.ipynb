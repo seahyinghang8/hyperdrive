{
 "cells": [
  {
   "cell_type": "code",
   "execution_count": 29,
   "metadata": {
    "scrolled": true
   },
   "outputs": [],
   "source": [
    "import sys\n",
    "import os\n",
    "import importlib\n",
    "sys.path.append('..')\n",
    "\n",
    "import utils\n",
    "from utils.dataloader import Dataloader\n",
    "importlib.reload(utils.extract)\n",
    "from utils.extract import extract_fields\n",
    "from utils.rule_gen import generate_query\n",
    "importlib.reload(utils.evaluator)\n",
    "from utils.evaluator import evaluate_output\n",
    "\n",
    "from ipywidgets import Layout\n",
    "import hyperwidget"
   ]
  },
  {
   "cell_type": "code",
   "execution_count": 11,
   "metadata": {
    "scrolled": true
   },
   "outputs": [],
   "source": [
    "def get_dataloader():\n",
    "    w2_sample_dir = os.path.join('../data', 'sample', 'w2')\n",
    "    data_dir = os.path.join(w2_sample_dir, 'single_clean')\n",
    "    label_path = os.path.join(w2_sample_dir, 'single_label.csv')\n",
    "    return Dataloader(data_dir, label_path)\n",
    "\n",
    "dl = get_dataloader()"
   ]
  },
  {
   "cell_type": "code",
   "execution_count": 26,
   "metadata": {},
   "outputs": [],
   "source": [
    "field_queries = [\n",
    "    {   # Field 1\n",
    "        \"name\": \"EIN\",\n",
    "        \"arguments\": {\n",
    "            \"x-position\": 0.1,\n",
    "            \"y-position\": 0.1,\n",
    "            \"entity\": \"CARDINAL\",\n",
    "            \"word-neighbors\": [\"Employer\", \"Identification\", \"Number\"],\n",
    "            \"word-neighbor-top-thres\": 50,\n",
    "            \"word-neighbor-left-thres\": 200,\n",
    "        },\n",
    "        \"weights\": {\n",
    "            \"x-position\": 0.25,\n",
    "            \"y-position\": 0.25,\n",
    "            \"entity\": 0.25,\n",
    "            \"word-neighbors\": 0.25,\n",
    "        }\n",
    "    },\n",
    "    {   # Field 2\n",
    "        \"name\": \"Medicare Tax withheld\",\n",
    "        \"arguments\": {\n",
    "            \"x-position\": 0.9,\n",
    "            \"y-position\": 0.1,\n",
    "            \"entity\": \"CARDINAL\",\n",
    "            \"word-neighbors\": [\"Medicare\", \"Tax\", \"Withheld\"],\n",
    "            \"word-neighbor-top-thres\": 50,\n",
    "            \"word-neighbor-left-thres\": 200,\n",
    "        },\n",
    "        \"weights\": {\n",
    "            \"x-position\": 0.25,\n",
    "            \"y-position\": 0.25,\n",
    "            \"entity\": 0.25,\n",
    "            \"word-neighbors\": 0.25,\n",
    "        }\n",
    "    }\n",
    "]"
   ]
  },
  {
   "cell_type": "code",
   "execution_count": 30,
   "metadata": {},
   "outputs": [],
   "source": [
    "k = 10\n",
    "num_docs = len(dl)\n",
    "\n",
    "extracted_fields = [\n",
    "    extract_fields(dl.get_document(i), field_queries)\n",
    "    for i in range(num_docs)\n",
    "]\n",
    "labels = [dl.get_label(i) for i in range(num_docs)]"
   ]
  },
  {
   "cell_type": "code",
   "execution_count": 24,
   "metadata": {},
   "outputs": [
    {
     "name": "stdout",
     "output_type": "stream",
     "text": [
      "Field: EIN\tAccuracy: 0.7777777777777778\n",
      "Field: Medicare Tax withheld\tAccuracy: 0.8888888888888888\n"
     ]
    }
   ],
   "source": [
    "errors = evaluate_output(extracted_fields, labels, ['EIN', 'Medicare Tax withheld'])"
   ]
  },
  {
   "cell_type": "code",
   "execution_count": 28,
   "metadata": {},
   "outputs": [
    {
     "name": "stdout",
     "output_type": "stream",
     "text": [
      "{'EIN': [(7, '199 Brent Row Suite 392', '95-5783877'), (8, '353 Sanders Fork', '55-0290753')], 'Medicare Tax withheld': [(2, '6 Medicare tax withheld', '1191.23')]}\n"
     ]
    }
   ],
   "source": [
    "print(errors)"
   ]
  },
  {
   "cell_type": "code",
   "execution_count": null,
   "metadata": {},
   "outputs": [],
   "source": []
  },
  {
   "cell_type": "code",
   "execution_count": null,
   "metadata": {},
   "outputs": [],
   "source": []
  },
  {
   "cell_type": "code",
   "execution_count": null,
   "metadata": {},
   "outputs": [],
   "source": []
  },
  {
   "cell_type": "code",
   "execution_count": null,
   "metadata": {},
   "outputs": [],
   "source": []
  },
  {
   "cell_type": "code",
   "execution_count": null,
   "metadata": {},
   "outputs": [],
   "source": []
  },
  {
   "cell_type": "code",
   "execution_count": null,
   "metadata": {},
   "outputs": [],
   "source": []
  },
  {
   "cell_type": "code",
   "execution_count": 3,
   "metadata": {
    "scrolled": true
   },
   "outputs": [],
   "source": [
    "label_page = dl.get_document(0).pages[0]\n",
    "ocr_visualizer = hyperwidget.OCRVisualizer(\n",
    "    page=label_page.as_dict(),\n",
    "    layout=Layout(overflow_x='auto')\n",
    ")"
   ]
  },
  {
   "cell_type": "code",
   "execution_count": 4,
   "metadata": {
    "scrolled": false
   },
   "outputs": [
    {
     "data": {
      "application/vnd.jupyter.widget-view+json": {
       "model_id": "dc2b52c57d0e44d4a519df4a4c1f767d",
       "version_major": 2,
       "version_minor": 0
      },
      "text/plain": [
       "OCRVisualizer(layout=Layout(overflow_x='auto'), page={'width': 1228, 'height': 1636, 'b64_image': 'iVBORw0KGgo…"
      ]
     },
     "metadata": {},
     "output_type": "display_data"
    }
   ],
   "source": [
    "ocr_visualizer"
   ]
  },
  {
   "cell_type": "code",
   "execution_count": 5,
   "metadata": {
    "scrolled": true
   },
   "outputs": [
    {
     "name": "stdout",
     "output_type": "stream",
     "text": [
      "Chosen Lines:  [line(9854906)]\n",
      "Generated Query:  {'name': 'Control number', 'arguments': {'x-position': 0.09201954397394137, 'y-position': 0.7121026894865525, 'entity': 'DATE', 'word-neighbors': ['‘d', 'Control', 'number', '9', 'Advance', 'EIC', 'payment', 'Shelly', 'Holmes', 'e', \"Employee's\", 'first', 'name', 'and', 'initial'], 'word-neighbor-top-thres': 0.05, 'word-neighbor-left-thres': 0.1}, 'weights': {'x-position': 0.5, 'y-position': 0.2, 'entity': 0.5, 'word-neighbors': 0.2}}\n"
     ]
    }
   ],
   "source": [
    "print(\"Chosen Lines: \", [label_page.lines[i] for i in ocr_visualizer.line_idxs])\n",
    "query = generate_query(\"Control number\", label_page.lines[ocr_visualizer.line_idxs[0]], label_page)\n",
    "print(\"Generated Query: \", query)"
   ]
  },
  {
   "cell_type": "code",
   "execution_count": null,
   "metadata": {},
   "outputs": [],
   "source": []
  }
 ],
 "metadata": {
  "kernelspec": {
   "display_name": "Python 3",
   "language": "python",
   "name": "python3"
  },
  "language_info": {
   "codemirror_mode": {
    "name": "ipython",
    "version": 3
   },
   "file_extension": ".py",
   "mimetype": "text/x-python",
   "name": "python",
   "nbconvert_exporter": "python",
   "pygments_lexer": "ipython3",
   "version": "3.7.8"
  }
 },
 "nbformat": 4,
 "nbformat_minor": 4
}
