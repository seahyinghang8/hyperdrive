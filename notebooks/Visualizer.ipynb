{
 "cells": [
  {
   "cell_type": "code",
   "execution_count": 1,
   "metadata": {
    "scrolled": true
   },
   "outputs": [],
   "source": [
    "import sys\n",
    "import os\n",
    "import importlib\n",
    "sys.path.append('..')\n",
    "\n",
    "import utils\n",
    "from utils.dataloader import Dataloader\n",
    "from utils.extract import extract_fields\n",
    "from utils.rule_gen import generate_query\n",
    "from utils.evaluator import evaluate_output\n",
    "\n",
    "from ipywidgets import Layout\n",
    "import hyperwidget"
   ]
  },
  {
   "cell_type": "code",
   "execution_count": 2,
   "metadata": {
    "scrolled": true
   },
   "outputs": [],
   "source": [
    "def get_dataloader():\n",
    "    w2_sample_dir = os.path.join('../data', 'sample', 'w2')\n",
    "    data_dir = os.path.join(w2_sample_dir, 'single_clean')\n",
    "    label_path = os.path.join(w2_sample_dir, 'single_label.csv')\n",
    "    return Dataloader(data_dir, label_path)\n",
    "\n",
    "dl = get_dataloader()"
   ]
  },
  {
   "cell_type": "code",
   "execution_count": null,
   "metadata": {},
   "outputs": [],
   "source": [
    "field_queries = [\n",
    "    {   # Field 1\n",
    "        \"name\": \"EIN\",\n",
    "        \"arguments\": {\n",
    "            \"x-position\": 0.1,\n",
    "            \"y-position\": 0.1,\n",
    "            \"entity\": \"EIN\",\n",
    "            \"word-neighbors\": [\"Employer\", \"Identification\", \"Number\"],\n",
    "            \"word-neighbor-top-thres\": 0.05,\n",
    "            \"word-neighbor-left-thres\": 0.1,\n",
    "        },\n",
    "        \"weights\": {\n",
    "            \"x-position\": 0.25,\n",
    "            \"y-position\": 0.25,\n",
    "            \"entity\": 0.25,\n",
    "            \"word-neighbors\": 0.25,\n",
    "        }\n",
    "    },\n",
    "    {   # Field 2\n",
    "        \"name\": \"Medicare Tax withheld\",\n",
    "        \"arguments\": {\n",
    "            \"x-position\": 0.9,\n",
    "            \"y-position\": 0.1,\n",
    "            \"entity\": \"CARDINAL\",\n",
    "            \"word-neighbors\": [\"Medicare\", \"Tax\", \"Withheld\"],\n",
    "            \"word-neighbor-top-thres\": 0.05,\n",
    "            \"word-neighbor-left-thres\": 0.1,\n",
    "        },\n",
    "        \"weights\": {\n",
    "            \"x-position\": 0.25,\n",
    "            \"y-position\": 0.25,\n",
    "            \"entity\": 0.25,\n",
    "            \"word-neighbors\": 0.25,\n",
    "        }\n",
    "    }\n",
    "]"
   ]
  },
  {
   "cell_type": "code",
   "execution_count": null,
   "metadata": {},
   "outputs": [],
   "source": [
    "k = 100\n",
    "num_docs = len(dl)\n",
    "\n",
    "extracted_fields = [\n",
    "    extract_fields(dl.get_document(i), field_queries, k)\n",
    "    for i in range(num_docs)\n",
    "]\n",
    "labels = [dl.get_label(i) for i in range(num_docs)]"
   ]
  },
  {
   "cell_type": "code",
   "execution_count": null,
   "metadata": {},
   "outputs": [],
   "source": [
    "errors = evaluate_output(extracted_fields, labels, ['EIN', 'Medicare Tax withheld'])"
   ]
  },
  {
   "cell_type": "code",
   "execution_count": null,
   "metadata": {},
   "outputs": [],
   "source": [
    "error_table = hyperwidget.ErrorTable(\n",
    "    errors = errors\n",
    ")"
   ]
  },
  {
   "cell_type": "code",
   "execution_count": null,
   "metadata": {},
   "outputs": [],
   "source": [
    "pages = [dl.get_document(i).pages[0].as_dict() for i in range(num_docs)]\n",
    "labels = [dl.get_label(i) for i in range(num_docs)]\n",
    "extracted_fields_serializable = [\n",
    "    {\n",
    "        k: [f.as_dict() for f in fl]\n",
    "        for (k, fl)in fd.items()\n",
    "    }\n",
    "    for fd in extracted_fields\n",
    "]\n",
    "\n",
    "extraction_heatmap = hyperwidget.ExtractionHeatmap(\n",
    "    pages=pages,\n",
    "    labels=labels,\n",
    "    extracted_fields=extracted_fields_serializable\n",
    ")"
   ]
  },
  {
   "cell_type": "code",
   "execution_count": null,
   "metadata": {},
   "outputs": [],
   "source": [
    "error_table"
   ]
  },
  {
   "cell_type": "code",
   "execution_count": null,
   "metadata": {},
   "outputs": [],
   "source": [
    "extraction_heatmap"
   ]
  },
  {
   "cell_type": "code",
   "execution_count": null,
   "metadata": {
    "scrolled": true
   },
   "outputs": [],
   "source": [
    "ocr_visualizer = hyperwidget.OCRVisualizer(\n",
    "    page=dl.get_document(0).pages[0].as_dict()\n",
    ")"
   ]
  },
  {
   "cell_type": "code",
   "execution_count": null,
   "metadata": {
    "scrolled": false
   },
   "outputs": [],
   "source": [
    "ocr_visualizer"
   ]
  },
  {
   "cell_type": "code",
   "execution_count": null,
   "metadata": {
    "scrolled": true
   },
   "outputs": [],
   "source": [
    "print(\"Chosen Lines: \", [label_page.lines[i] for i in ocr_visualizer.line_idxs])\n",
    "query = generate_query(\"Control number\", [label_page.lines[ocr_visualizer.line_idxs[0]]], [label_page])\n",
    "print(\"Generated Query: \", query)"
   ]
  },
  {
   "cell_type": "code",
   "execution_count": 7,
   "metadata": {},
   "outputs": [],
   "source": [
    "pages = [dl.get_document(i).pages[0] for i in range(5)]\n",
    "pages_dict = [p.as_dict() for p in pages]\n",
    "multidoc_gen = hyperwidget.MultiDocGen(\n",
    "    pages=pages_dict\n",
    ")"
   ]
  },
  {
   "cell_type": "code",
   "execution_count": 8,
   "metadata": {},
   "outputs": [
    {
     "data": {
      "application/vnd.jupyter.widget-view+json": {
       "model_id": "9648e45b152c4c4cadca0b1416e43241",
       "version_major": 2,
       "version_minor": 0
      },
      "text/plain": [
       "MultiDocGen(pages=[{'width': 1236, 'height': 1658, 'b64_image': 'iVBORw0KGgoAAAANSUhEUgAABNQAAAZ6CAIAAACbo6xpA…"
      ]
     },
     "metadata": {},
     "output_type": "display_data"
    }
   ],
   "source": [
    "multidoc_gen"
   ]
  },
  {
   "cell_type": "code",
   "execution_count": 9,
   "metadata": {},
   "outputs": [
    {
     "name": "stdout",
     "output_type": "stream",
     "text": [
      "{'0': [7], '1': [6], '2': [6], '3': [7], '4': [8]}\n",
      "{'SSN': 2.0, 'CARDINAL': 3.0}\n"
     ]
    }
   ],
   "source": [
    "labeled_pages, labeled_lines = [], []\n",
    "print(multidoc_gen.selected_lines)\n",
    "for doc in multidoc_gen.selected_lines:\n",
    "    doc_idx = int(doc)\n",
    "    labeled_pages.append(pages[doc_idx])\n",
    "    labeled_lines.append(pages[doc_idx].lines[multidoc_gen.selected_lines[doc][0]])\n",
    "query = generate_query(\"Control number\", labeled_lines, labeled_pages)"
   ]
  },
  {
   "cell_type": "code",
   "execution_count": 10,
   "metadata": {},
   "outputs": [
    {
     "data": {
      "text/plain": [
       "{'name': 'Control number',\n",
       " 'arguments': {'x-position': 0.3131067961165049,\n",
       "  'y-position': 0.020989143546441498,\n",
       "  'entity': 'CARDINAL',\n",
       "  'word-neighbors': [\"Employee's\", '{a', 'social', 'security', 'number'],\n",
       "  'word-neighbor-top-thres': 0.05,\n",
       "  'word-neighbor-left-thres': 0.1},\n",
       " 'weights': {'x-position': 0.25,\n",
       "  'y-position': 0.25,\n",
       "  'entity': 0.25,\n",
       "  'word-neighbors': 0.25}}"
      ]
     },
     "execution_count": 10,
     "metadata": {},
     "output_type": "execute_result"
    }
   ],
   "source": [
    "query"
   ]
  },
  {
   "cell_type": "code",
   "execution_count": null,
   "metadata": {},
   "outputs": [],
   "source": []
  }
 ],
 "metadata": {
  "kernelspec": {
   "display_name": "Python 3",
   "language": "python",
   "name": "python3"
  },
  "language_info": {
   "codemirror_mode": {
    "name": "ipython",
    "version": 3
   },
   "file_extension": ".py",
   "mimetype": "text/x-python",
   "name": "python",
   "nbconvert_exporter": "python",
   "pygments_lexer": "ipython3",
   "version": "3.7.3"
  }
 },
 "nbformat": 4,
 "nbformat_minor": 4
}
