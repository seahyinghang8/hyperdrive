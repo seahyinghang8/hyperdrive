{
 "cells": [
  {
   "cell_type": "code",
   "execution_count": 5,
   "metadata": {
    "scrolled": true
   },
   "outputs": [],
   "source": [
    "import sys\n",
    "import os\n",
    "sys.path.append('..')"
   ]
  },
  {
   "cell_type": "code",
   "execution_count": 6,
   "metadata": {
    "scrolled": true
   },
   "outputs": [],
   "source": [
    "import pdf2image\n",
    "from ipywidgets import Layout\n",
    "\n",
    "\n",
    "from utils.dataloader import Dataloader\n",
    "from utils.parser import process_image\n",
    "from utils.cluster import cluster_text\n",
    "from utils.extract import extract_fields\n",
    "from utils.rule_gen import generate_query\n",
    "\n",
    "from models.document import Document\n",
    "from models.spatial_text import Page, Line\n",
    "\n",
    "import hyperwidget\n",
    "\n",
    "\n",
    "def convert_page_to_dict(page_obj):\n",
    "    page = {}\n",
    "    page['width'] = page_obj.width\n",
    "    page['height'] = page_obj.height\n",
    "    page['lines'] = []\n",
    "    for line in page_obj.lines:\n",
    "        page['lines'].append(\n",
    "            {\n",
    "                'height': line.height, 'width': line.width,\n",
    "                'left': line.left, 'top': line.top, 'text': str(line)\n",
    "            }\n",
    "        )\n",
    "    return page\n",
    "\n",
    "def get_docs():\n",
    "    w2_sample_dir = os.path.join('../data', 'sample', 'w2')\n",
    "    data_dir = os.path.join(w2_sample_dir, 'single_clean')\n",
    "    label_path = os.path.join(w2_sample_dir, 'single_label.csv')\n",
    "    return Dataloader(data_dir, label_path)\n",
    "dl = get_docs()"
   ]
  },
  {
   "cell_type": "code",
   "execution_count": 7,
   "metadata": {
    "scrolled": true
   },
   "outputs": [],
   "source": [
    "label_page = dl.get_document(0).pages[0]\n",
    "hyperview = hyperwidget.HyperWidget(\n",
    "    page=convert_page_to_dict(label_page),\n",
    "    layout=Layout(overflow_x='auto')\n",
    ")"
   ]
  },
  {
   "cell_type": "code",
   "execution_count": 8,
   "metadata": {
    "scrolled": false
   },
   "outputs": [
    {
     "data": {
      "application/vnd.jupyter.widget-view+json": {
       "model_id": "bd813810d54f4727af00fd7d91e3cdd4",
       "version_major": 2,
       "version_minor": 0
      },
      "text/plain": [
       "HyperWidget(layout=Layout(overflow_x='auto'), line_idxs=[0], page={'width': 1228, 'height': 1636, 'lines': [{'…"
      ]
     },
     "metadata": {},
     "output_type": "display_data"
    }
   ],
   "source": [
    "hyperview"
   ]
  },
  {
   "cell_type": "code",
   "execution_count": 48,
   "metadata": {
    "scrolled": true
   },
   "outputs": [
    {
     "name": "stdout",
     "output_type": "stream",
     "text": [
      "Chosen Lines:  [{'height': 28, 'width': 138, 'left': 131, 'top': 1456, 'text': '282-08-755'}]\n",
      "Generated Query:  {'name': 'Extracted Field', 'arguments': {'x-position': 0.16286644951140064, 'y-position': 0.8985330073349633, 'entity': 'CARDINAL', 'word-neighbors': ['IN', '604-70-391', '_[86611.24', 'f', \"Employee's\", 'address', 'and', 'ZIP', 'code', 'Employers', 'state', 'ID', 'number', 'TX'], 'word-neighbor-top-thres': 0.05, 'word-neighbor-left-thres': 0.1}, 'weights': {'x-position': 0.5, 'y-position': 0.2, 'entity': 0.5, 'word-neighbors': 0.2}}\n"
     ]
    }
   ],
   "source": [
    "print(\"Chosen Lines: \", hyperview.lines)\n",
    "query = generate_query(label_page.lines[hyperview.line_idxs[0]], label_page)\n",
    "print(\"Generated Query: \", query)"
   ]
  },
  {
   "cell_type": "code",
   "execution_count": 49,
   "metadata": {},
   "outputs": [
    {
     "data": {
      "text/plain": [
       "{'Extracted Field': [field(idx=156, line=\"282-08-755\", score=1.30),\n",
       "  field(idx=161, line=\"604-70-391 _[86611.24\", score=1.25)]}"
      ]
     },
     "execution_count": 49,
     "metadata": {},
     "output_type": "execute_result"
    }
   ],
   "source": [
    "extract_fields(dl.get_document(0), [query])"
   ]
  }
 ],
 "metadata": {
  "kernelspec": {
   "display_name": "Python 3",
   "language": "python",
   "name": "python3"
  },
  "language_info": {
   "codemirror_mode": {
    "name": "ipython",
    "version": 3
   },
   "file_extension": ".py",
   "mimetype": "text/x-python",
   "name": "python",
   "nbconvert_exporter": "python",
   "pygments_lexer": "ipython3",
   "version": "3.7.3"
  }
 },
 "nbformat": 4,
 "nbformat_minor": 4
}
