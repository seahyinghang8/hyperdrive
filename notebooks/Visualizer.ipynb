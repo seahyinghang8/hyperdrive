{
 "cells": [
  {
   "cell_type": "code",
   "execution_count": 1,
   "metadata": {
    "scrolled": true
   },
   "outputs": [],
   "source": [
    "import sys\n",
    "import os\n",
    "sys.path.append('..')"
   ]
  },
  {
   "cell_type": "code",
   "execution_count": 2,
   "metadata": {
    "scrolled": true
   },
   "outputs": [],
   "source": [
    "import base64\n",
    "from io import BytesIO\n",
    "\n",
    "import pdf2image\n",
    "from ipywidgets import Layout\n",
    "\n",
    "from utils.dataloader import Dataloader\n",
    "from utils.parser import process_image\n",
    "from utils.cluster import cluster_text\n",
    "from utils.extract import extract_fields\n",
    "from utils.rule_gen import generate_query\n",
    "\n",
    "from models.document import Document\n",
    "from models.spatial_text import Page, Line\n",
    "\n",
    "import hyperwidget\n",
    "\n",
    "\n",
    "def get_dataloader():\n",
    "    w2_sample_dir = os.path.join('../data', 'sample', 'w2')\n",
    "    data_dir = os.path.join(w2_sample_dir, 'single_clean')\n",
    "    label_path = os.path.join(w2_sample_dir, 'single_label.csv')\n",
    "    return Dataloader(data_dir, label_path)\n",
    "\n",
    "dl = get_dataloader()"
   ]
  },
  {
   "cell_type": "code",
   "execution_count": 4,
   "metadata": {
    "scrolled": true
   },
   "outputs": [],
   "source": [
    "label_page = dl.get_document(0).pages[0]\n",
    "ocr_visualizer = hyperwidget.OCRVisualizer(\n",
    "    page=label_page.as_dict(),\n",
    "    layout=Layout(overflow_x='auto')\n",
    ")"
   ]
  },
  {
   "cell_type": "code",
   "execution_count": 5,
   "metadata": {
    "scrolled": false
   },
   "outputs": [
    {
     "data": {
      "application/vnd.jupyter.widget-view+json": {
       "model_id": "e72f446e5b2f40c381750342cdb91c3d",
       "version_major": 2,
       "version_minor": 0
      },
      "text/plain": [
       "OCRVisualizer(layout=Layout(overflow_x='auto'), page={'width': 1228, 'height': 1636, 'b64_image': 'iVBORw0KGgo…"
      ]
     },
     "metadata": {},
     "output_type": "display_data"
    }
   ],
   "source": [
    "ocr_visualizer"
   ]
  },
  {
   "cell_type": "code",
   "execution_count": null,
   "metadata": {
    "scrolled": true
   },
   "outputs": [],
   "source": [
    "print(\"Chosen Lines: \", [label_page.lines[i] for i in ocr_visualizer.line_idxs])\n",
    "query = generate_query(label_page.lines[ocr_visualizer.line_idxs[0]], label_page)\n",
    "print(\"Generated Query: \", query)"
   ]
  },
  {
   "cell_type": "code",
   "execution_count": null,
   "metadata": {},
   "outputs": [],
   "source": [
    "extract_fields(dl.get_document(0), [query])"
   ]
  },
  {
   "cell_type": "code",
   "execution_count": null,
   "metadata": {},
   "outputs": [],
   "source": [
    "label_page"
   ]
  },
  {
   "cell_type": "code",
   "execution_count": null,
   "metadata": {},
   "outputs": [],
   "source": []
  }
 ],
 "metadata": {
  "kernelspec": {
   "display_name": "Python 3",
   "language": "python",
   "name": "python3"
  },
  "language_info": {
   "codemirror_mode": {
    "name": "ipython",
    "version": 3
   },
   "file_extension": ".py",
   "mimetype": "text/x-python",
   "name": "python",
   "nbconvert_exporter": "python",
   "pygments_lexer": "ipython3",
   "version": "3.7.8"
  }
 },
 "nbformat": 4,
 "nbformat_minor": 4
}
