{
 "cells": [
  {
   "cell_type": "code",
   "execution_count": 1,
   "metadata": {
    "scrolled": true
   },
   "outputs": [],
   "source": [
    "import sys\n",
    "import os\n",
    "import importlib\n",
    "sys.path.append('..')\n",
    "\n",
    "import utils\n",
    "from utils.dataloader import Dataloader\n",
    "from utils.extract import extract_fields\n",
    "from utils.rule_gen import generate_query\n",
    "from utils.evaluator import evaluate_output\n",
    "\n",
    "from ipywidgets import Layout\n",
    "import hyperwidget"
   ]
  },
  {
   "cell_type": "code",
   "execution_count": 2,
   "metadata": {
    "scrolled": true
   },
   "outputs": [],
   "source": [
    "def get_dataloader():\n",
    "    w2_sample_dir = os.path.join('../data', 'sample', 'w2')\n",
    "    data_dir = os.path.join(w2_sample_dir, 'single_clean')\n",
    "    label_path = os.path.join(w2_sample_dir, 'single_label.csv')\n",
    "    return Dataloader(data_dir, label_path)\n",
    "\n",
    "dl = get_dataloader()"
   ]
  },
  {
   "cell_type": "code",
   "execution_count": 3,
   "metadata": {},
   "outputs": [],
   "source": [
    "field_queries = [\n",
    "    {   # Field 1\n",
    "        \"name\": \"EIN\",\n",
    "        \"arguments\": {\n",
    "            \"x-position\": 0.1,\n",
    "            \"y-position\": 0.1,\n",
    "            \"entity\": \"EIN\",\n",
    "            \"word-neighbors\": [\"Employer\", \"Identification\", \"Number\"],\n",
    "            \"word-neighbor-top-thres\": 0.05,\n",
    "            \"word-neighbor-left-thres\": 0.1,\n",
    "        },\n",
    "        \"weights\": {\n",
    "            \"x-position\": 0.25,\n",
    "            \"y-position\": 0.25,\n",
    "            \"entity\": 0.25,\n",
    "            \"word-neighbors\": 0.25,\n",
    "        }\n",
    "    },\n",
    "    {   # Field 2\n",
    "        \"name\": \"Medicare Tax withheld\",\n",
    "        \"arguments\": {\n",
    "            \"x-position\": 0.9,\n",
    "            \"y-position\": 0.1,\n",
    "            \"entity\": \"CARDINAL\",\n",
    "            \"word-neighbors\": [\"Medicare\", \"Tax\", \"Withheld\"],\n",
    "            \"word-neighbor-top-thres\": 0.05,\n",
    "            \"word-neighbor-left-thres\": 0.1,\n",
    "        },\n",
    "        \"weights\": {\n",
    "            \"x-position\": 0.25,\n",
    "            \"y-position\": 0.25,\n",
    "            \"entity\": 0.25,\n",
    "            \"word-neighbors\": 0.25,\n",
    "        }\n",
    "    }\n",
    "]"
   ]
  },
  {
   "cell_type": "code",
   "execution_count": 4,
   "metadata": {},
   "outputs": [],
   "source": [
    "k = 100\n",
    "num_docs = len(dl)\n",
    "\n",
    "extracted_fields = [\n",
    "    extract_fields(dl.get_document(i), field_queries, k)\n",
    "    for i in range(num_docs)\n",
    "]\n",
    "labels = [dl.get_label(i) for i in range(num_docs)]"
   ]
  },
  {
   "cell_type": "code",
   "execution_count": 5,
   "metadata": {},
   "outputs": [
    {
     "name": "stdout",
     "output_type": "stream",
     "text": [
      "Field: EIN\tAccuracy: 1.0\n",
      "Field: Medicare Tax withheld\tAccuracy: 1.0\n"
     ]
    }
   ],
   "source": [
    "errors = evaluate_output(extracted_fields, labels, ['EIN', 'Medicare Tax withheld'])"
   ]
  },
  {
   "cell_type": "code",
   "execution_count": 6,
   "metadata": {},
   "outputs": [],
   "source": [
    "error_table = hyperwidget.ErrorTable(\n",
    "    errors = errors\n",
    ")"
   ]
  },
  {
   "cell_type": "code",
   "execution_count": 7,
   "metadata": {},
   "outputs": [],
   "source": [
    "pages = [dl.get_document(i).pages[0].as_dict() for i in range(num_docs)]\n",
    "labels = [dl.get_label(i) for i in range(num_docs)]\n",
    "extracted_fields_serializable = [\n",
    "    {\n",
    "        k: [f.as_dict() for f in fl]\n",
    "        for (k, fl)in fd.items()\n",
    "    }\n",
    "    for fd in extracted_fields\n",
    "]\n",
    "\n",
    "extraction_heatmap = hyperwidget.ExtractionHeatmap(\n",
    "    pages=pages,\n",
    "    labels=labels,\n",
    "    extracted_fields=extracted_fields_serializable\n",
    ")"
   ]
  },
  {
   "cell_type": "code",
   "execution_count": 8,
   "metadata": {},
   "outputs": [
    {
     "data": {
      "application/vnd.jupyter.widget-view+json": {
       "model_id": "205429aae406498a8e6f5796013e3ab6",
       "version_major": 2,
       "version_minor": 0
      },
      "text/plain": [
       "ErrorTable(errors={'EIN': [], 'Medicare Tax withheld': []})"
      ]
     },
     "metadata": {},
     "output_type": "display_data"
    }
   ],
   "source": [
    "error_table"
   ]
  },
  {
   "cell_type": "code",
   "execution_count": 9,
   "metadata": {},
   "outputs": [
    {
     "data": {
      "application/vnd.jupyter.widget-view+json": {
       "model_id": "dbaabb9799444d9fb7f9fac4f00d1a40",
       "version_major": 2,
       "version_minor": 0
      },
      "text/plain": [
       "ExtractionHeatmap(extracted_fields=[{'EIN': [{'line': {'height': 28, 'width': 136, 'left': 66, 'top': 76, 'tex…"
      ]
     },
     "metadata": {},
     "output_type": "display_data"
    }
   ],
   "source": [
    "extraction_heatmap"
   ]
  },
  {
   "cell_type": "code",
   "execution_count": 10,
   "metadata": {
    "scrolled": true
   },
   "outputs": [],
   "source": [
    "ocr_visualizer = hyperwidget.OCRVisualizer(\n",
    "    page=dl.get_document(0).pages[0].as_dict()\n",
    ")"
   ]
  },
  {
   "cell_type": "code",
   "execution_count": 11,
   "metadata": {
    "scrolled": false
   },
   "outputs": [
    {
     "data": {
      "application/vnd.jupyter.widget-view+json": {
       "model_id": "d19dda42a0324bafa799da7f5b85de75",
       "version_major": 2,
       "version_minor": 0
      },
      "text/plain": [
       "OCRVisualizer(page={'width': 1236, 'height': 1658, 'b64_image': 'iVBORw0KGgoAAAANSUhEUgAABNQAAAZ6CAIAAACbo6xpA…"
      ]
     },
     "metadata": {},
     "output_type": "display_data"
    }
   ],
   "source": [
    "ocr_visualizer"
   ]
  },
  {
   "cell_type": "code",
   "execution_count": 12,
   "metadata": {
    "scrolled": true
   },
   "outputs": [
    {
     "name": "stdout",
     "output_type": "stream",
     "text": [
      "Chosen Lines:  []\n"
     ]
    },
    {
     "ename": "NameError",
     "evalue": "name 'label_page' is not defined",
     "output_type": "error",
     "traceback": [
      "\u001b[0;31m---------------------------------------------------------------------------\u001b[0m",
      "\u001b[0;31mNameError\u001b[0m                                 Traceback (most recent call last)",
      "\u001b[0;32m<ipython-input-12-de7892b60b84>\u001b[0m in \u001b[0;36m<module>\u001b[0;34m\u001b[0m\n\u001b[1;32m      1\u001b[0m \u001b[0mprint\u001b[0m\u001b[0;34m(\u001b[0m\u001b[0;34m\"Chosen Lines: \"\u001b[0m\u001b[0;34m,\u001b[0m \u001b[0;34m[\u001b[0m\u001b[0mlabel_page\u001b[0m\u001b[0;34m.\u001b[0m\u001b[0mlines\u001b[0m\u001b[0;34m[\u001b[0m\u001b[0mi\u001b[0m\u001b[0;34m]\u001b[0m \u001b[0;32mfor\u001b[0m \u001b[0mi\u001b[0m \u001b[0;32min\u001b[0m \u001b[0mocr_visualizer\u001b[0m\u001b[0;34m.\u001b[0m\u001b[0mline_idxs\u001b[0m\u001b[0;34m]\u001b[0m\u001b[0;34m)\u001b[0m\u001b[0;34m\u001b[0m\u001b[0;34m\u001b[0m\u001b[0m\n\u001b[0;32m----> 2\u001b[0;31m \u001b[0mquery\u001b[0m \u001b[0;34m=\u001b[0m \u001b[0mgenerate_query\u001b[0m\u001b[0;34m(\u001b[0m\u001b[0;34m\"Control number\"\u001b[0m\u001b[0;34m,\u001b[0m \u001b[0mlabel_page\u001b[0m\u001b[0;34m.\u001b[0m\u001b[0mlines\u001b[0m\u001b[0;34m[\u001b[0m\u001b[0mocr_visualizer\u001b[0m\u001b[0;34m.\u001b[0m\u001b[0mline_idxs\u001b[0m\u001b[0;34m[\u001b[0m\u001b[0;36m0\u001b[0m\u001b[0;34m]\u001b[0m\u001b[0;34m]\u001b[0m\u001b[0;34m,\u001b[0m \u001b[0mlabel_page\u001b[0m\u001b[0;34m)\u001b[0m\u001b[0;34m\u001b[0m\u001b[0;34m\u001b[0m\u001b[0m\n\u001b[0m\u001b[1;32m      3\u001b[0m \u001b[0mprint\u001b[0m\u001b[0;34m(\u001b[0m\u001b[0;34m\"Generated Query: \"\u001b[0m\u001b[0;34m,\u001b[0m \u001b[0mquery\u001b[0m\u001b[0;34m)\u001b[0m\u001b[0;34m\u001b[0m\u001b[0;34m\u001b[0m\u001b[0m\n",
      "\u001b[0;31mNameError\u001b[0m: name 'label_page' is not defined"
     ]
    }
   ],
   "source": [
    "print(\"Chosen Lines: \", [label_page.lines[i] for i in ocr_visualizer.line_idxs])\n",
    "query = generate_query(\"Control number\", label_page.lines[ocr_visualizer.line_idxs[0]], label_page)\n",
    "print(\"Generated Query: \", query)"
   ]
  },
  {
   "cell_type": "code",
   "execution_count": null,
   "metadata": {},
   "outputs": [],
   "source": []
  }
 ],
 "metadata": {
  "kernelspec": {
   "display_name": "Python 3",
   "language": "python",
   "name": "python3"
  },
  "language_info": {
   "codemirror_mode": {
    "name": "ipython",
    "version": 3
   },
   "file_extension": ".py",
   "mimetype": "text/x-python",
   "name": "python",
   "nbconvert_exporter": "python",
   "pygments_lexer": "ipython3",
   "version": "3.7.3"
  }
 },
 "nbformat": 4,
 "nbformat_minor": 4
}
