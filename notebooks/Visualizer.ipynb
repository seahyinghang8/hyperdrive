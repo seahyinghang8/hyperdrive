{
 "cells": [
  {
   "cell_type": "code",
   "execution_count": 1,
   "metadata": {
    "scrolled": true
   },
   "outputs": [],
   "source": [
    "import sys\n",
    "import os\n",
    "import importlib\n",
    "sys.path.append('..')\n",
    "\n",
    "import utils\n",
    "from utils.dataloader import Dataloader\n",
    "from utils.extract import extract_fields\n",
    "from utils.rule_gen import generate_query\n",
    "from utils.evaluator import evaluate_output\n",
    "from utils.helpers import extracted_fields_serialized\n",
    "\n",
    "import spacy\n",
    "from iterextras import par_for\n",
    "\n",
    "from ipywidgets import Layout\n",
    "import hyperwidget"
   ]
  },
  {
   "cell_type": "code",
   "execution_count": 2,
   "metadata": {
    "scrolled": true
   },
   "outputs": [],
   "source": [
    "def get_w2_sample_dataloader(doc_type: str):\n",
    "    main_dir = os.path.join('../data', 'sample', 'w2')\n",
    "    data_dir = os.path.join(main_dir, doc_type)\n",
    "    label_path = os.path.join(main_dir, f'{doc_type}_label.csv')\n",
    "    return Dataloader(data_dir, label_path, concatenate_pages=True, cache_to_disk=True)\n",
    "\n",
    "def get_w2_train_dataloader(doc_type: str):\n",
    "    main_dir = os.path.join('../data', 'full', 'w2', 'train')\n",
    "    data_dir = os.path.join(main_dir, doc_type)\n",
    "    label_path = os.path.join(main_dir, f'{doc_type}_label.csv')\n",
    "    return Dataloader(data_dir, label_path, concatenate_pages=True, cache_to_disk=True)\n",
    "\n",
    "sample_single = get_w2_sample_dataloader('single')\n",
    "sample_multi = get_w2_sample_dataloader('multi')\n",
    "full_single = get_w2_train_dataloader('single')\n",
    "full_multi = get_w2_train_dataloader('multi')\n",
    "\n",
    "nlp = spacy.load(\"en_core_web_sm\")"
   ]
  },
  {
   "cell_type": "code",
   "execution_count": 21,
   "metadata": {
    "scrolled": true
   },
   "outputs": [
    {
     "data": {
      "application/vnd.jupyter.widget-view+json": {
       "model_id": "fbeeb52207884a4ba99fc2cc44e14621",
       "version_major": 2,
       "version_minor": 0
      },
      "text/plain": [
       "OCRVisualizer(document={'path': '../data/sample/w2/single/W2_XL_input_2807.pdf', 'pages': [{'lines': [{'words'…"
      ]
     },
     "metadata": {},
     "output_type": "display_data"
    }
   ],
   "source": [
    "visualizer = hyperwidget.OCRVisualizer(\n",
    "    document=dl.get_document(8).as_dict_with_images()\n",
    ")\n",
    "visualizer"
   ]
  },
  {
   "cell_type": "code",
   "execution_count": 8,
   "metadata": {},
   "outputs": [
    {
     "data": {
      "text/plain": [
       "{'name': 'TEST',\n",
       " 'arguments': {'x-position': 0.35587188612099646,\n",
       "  'y-position': 0.08022922636103152,\n",
       "  'entity': 'SSN',\n",
       "  'word-neighbors': [],\n",
       "  'word-neighbor-max-top-dist': 21.928571428571427,\n",
       "  'word-neighbor-max-left-dist': 21.928571428571427,\n",
       "  'word-neighbor-max-bottom-dist': 21.928571428571427,\n",
       "  'word-neighbor-max-right-dist': 21.928571428571427},\n",
       " 'weights': {'x-position': 0.25,\n",
       "  'y-position': 0.25,\n",
       "  'entity': 0.25,\n",
       "  'word-neighbors': 0.25}}"
      ]
     },
     "execution_count": 8,
     "metadata": {},
     "output_type": "execute_result"
    }
   ],
   "source": [
    "page = dl.get_document(0).pages[0]\n",
    "labeled_pages, labeled_lines = [page], [page[idx] for idx in visualizer.selected_lines]\n",
    "query = generate_query(\"TEST\", labeled_lines, labeled_pages)\n",
    "query"
   ]
  },
  {
   "cell_type": "markdown",
   "metadata": {},
   "source": [
    "EIN,Employer's Name,Employer's Street Address,Employer's City-State-Zip,Employee Social Security Number,Employee Name,Employee Street Address,Employee's City-State-Zip,Control Number,\"Wages, Tips & Other Compensation\",Federal Income Tax Withheld,Social Security Wages,Social Security Tax Withheld,Medicare Wages & Tips,Medicare Tax Withheld,Social Security Tips,Allocated Tips,Advance EIC Payment,Dependent Care Benefits,Non-qualified Plans,12a Column 1,12a Column 2,12b Column 1,12b Column 2,12c Column 1,12c Column 2,12d Column 1,12d Column 2,Statutary Employee,Retirement Plan,Third Party Sick Pay,State_1,Employee State ID_1,State Wages & Tips_1,State Income Tax_1,Local Wages & Tips_1,Local Income Tax_1,Locality Name_1,State_2,Employee State ID_2,State Wages & Tips_2,State Income Tax_2,Local Wages & Tips_2,Local Income Tax_2,Locality Name_2\n"
   ]
  },
  {
   "cell_type": "code",
   "execution_count": 30,
   "metadata": {},
   "outputs": [],
   "source": [
    "single_field_queries = [\n",
    "    {   # Field 5\n",
    "        \"name\": \"Employee Social Security Number\",\n",
    "        \"arguments\": {\n",
    "            \"x-position\": 0.36,\n",
    "            \"y-position\": 0.08,\n",
    "            \"entity\": \"SSN\",\n",
    "            \"word-neighbors\": [\"social security number\"],\n",
    "            \"word-neighbor-max-top-dist\": 100,\n",
    "            \"word-neighbor-max-left-dist\": 100,\n",
    "            \"word-neighbor-max-bottom-dist\": 0,\n",
    "            \"word-neighbor-max-right-dist\": 0,\n",
    "        },\n",
    "        \"weights\": {\n",
    "            \"x-position\": 0.,\n",
    "            \"y-position\": 0.,\n",
    "            \"entity\": 0.,\n",
    "            \"word-neighbors\": 0.25,\n",
    "        }\n",
    "    },\n",
    "#         {   # Field x\n",
    "#         \"name\": \"\",\n",
    "#         \"arguments\": {\n",
    "#             \"x-position\": 0.5,\n",
    "#             \"y-position\": 0.5,\n",
    "#             \"entity\": \"\",\n",
    "#             \"word-neighbors\": [\"\"],\n",
    "#             \"word-neighbor-max-top-dist\": 0,\n",
    "#             \"word-neighbor-max-left-dist\": 0,\n",
    "#             \"word-neighbor-max-bottom-dist\": 0,\n",
    "#             \"word-neighbor-max-right-dist\": 0,\n",
    "#         },\n",
    "#         \"weights\": {\n",
    "#             \"x-position\": 0.,\n",
    "#             \"y-position\": 0.,\n",
    "#             \"entity\": 0.,\n",
    "#             \"word-neighbors\": 0.,\n",
    "#         }\n",
    "#     },\n",
    "]\n",
    "dl = sample_single\n",
    "field_queries = single_field_queries\n",
    "fields = [f[\"name\"] for f in field_queries]"
   ]
  },
  {
   "cell_type": "code",
   "execution_count": 31,
   "metadata": {},
   "outputs": [
    {
     "data": {
      "application/vnd.jupyter.widget-view+json": {
       "model_id": "2c1e6e7cd4ed44bc996034f47bb00111",
       "version_major": 2,
       "version_minor": 0
      },
      "text/plain": [
       "HBox(children=(HTML(value=''), FloatProgress(value=0.0, max=9.0), HTML(value='')))"
      ]
     },
     "metadata": {},
     "output_type": "display_data"
    },
    {
     "name": "stdout",
     "output_type": "stream",
     "text": [
      "\n",
      "Field: Employee Social Security Number\tAccuracy: 1.0\n"
     ]
    }
   ],
   "source": [
    "num_docs = len(dl)\n",
    "extracted_fields = par_for(\n",
    "    lambda i:  extract_fields(dl.get_document(i), field_queries, 1000, nlp),\n",
    "    list(range(num_docs)),\n",
    "    workers=2,\n",
    ")\n",
    "labels = [dl.get_label(i) for i in range(num_docs)]\n",
    "\n",
    "errors = evaluate_output(extracted_fields, labels, fields)\n",
    "error_table = hyperwidget.ErrorTable(\n",
    "    errors = errors\n",
    ")\n",
    "\n",
    "extraction_heatmap = hyperwidget.ExtractionHeatmap(\n",
    "    documents=[dl.get_document(i).as_dict_with_images() for i in range(num_docs)],\n",
    "    labels=[dl.get_label(i) for i in range(num_docs)],\n",
    "    extracted_fields=extracted_fields_serialized(extracted_fields)\n",
    ")"
   ]
  },
  {
   "cell_type": "code",
   "execution_count": 32,
   "metadata": {},
   "outputs": [
    {
     "data": {
      "application/vnd.jupyter.widget-view+json": {
       "model_id": "b8896ea9cc2a453daccaf7a31c8bc692",
       "version_major": 2,
       "version_minor": 0
      },
      "text/plain": [
       "ErrorTable(errors={'Employee Social Security Number': []})"
      ]
     },
     "metadata": {},
     "output_type": "display_data"
    }
   ],
   "source": [
    "error_table"
   ]
  },
  {
   "cell_type": "code",
   "execution_count": 33,
   "metadata": {
    "scrolled": false
   },
   "outputs": [
    {
     "data": {
      "application/vnd.jupyter.widget-view+json": {
       "model_id": "396dbcaf5bf341239da65cbfc5b95318",
       "version_major": 2,
       "version_minor": 0
      },
      "text/plain": [
       "ExtractionHeatmap(documents=[{'path': '../data/sample/w2/single/W2_XL_input_1192.pdf', 'pages': [{'lines': [{'…"
      ]
     },
     "metadata": {},
     "output_type": "display_data"
    }
   ],
   "source": [
    "extraction_heatmap"
   ]
  },
  {
   "cell_type": "code",
   "execution_count": 34,
   "metadata": {},
   "outputs": [
    {
     "data": {
      "text/plain": [
       "True"
      ]
     },
     "execution_count": 34,
     "metadata": {},
     "output_type": "execute_result"
    }
   ],
   "source": [
    "\"Employee's social security number\" == \"Employee's social security number\""
   ]
  },
  {
   "cell_type": "code",
   "execution_count": null,
   "metadata": {},
   "outputs": [],
   "source": []
  }
 ],
 "metadata": {
  "kernelspec": {
   "display_name": "Python 3",
   "language": "python",
   "name": "python3"
  },
  "language_info": {
   "codemirror_mode": {
    "name": "ipython",
    "version": 3
   },
   "file_extension": ".py",
   "mimetype": "text/x-python",
   "name": "python",
   "nbconvert_exporter": "python",
   "pygments_lexer": "ipython3",
   "version": "3.7.8"
  }
 },
 "nbformat": 4,
 "nbformat_minor": 4
}
