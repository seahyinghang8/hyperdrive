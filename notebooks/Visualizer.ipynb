{
 "cells": [
  {
   "cell_type": "code",
   "execution_count": null,
   "metadata": {
    "scrolled": true
   },
   "outputs": [],
   "source": [
    "import sys\n",
    "import os\n",
    "sys.path.append('..')"
   ]
  },
  {
   "cell_type": "code",
   "execution_count": null,
   "metadata": {
    "scrolled": true
   },
   "outputs": [],
   "source": [
    "import base64\n",
    "from io import BytesIO\n",
    "\n",
    "import pdf2image\n",
    "from ipywidgets import Layout\n",
    "\n",
    "from utils.dataloader import Dataloader\n",
    "from utils.parser import process_image\n",
    "from utils.cluster import cluster_text\n",
    "from utils.extract import extract_fields\n",
    "from utils.rule_gen import generate_query\n",
    "\n",
    "from models.document import Document\n",
    "from models.spatial_text import Page, Line\n",
    "\n",
    "import hyperwidget\n",
    "\n",
    "def b64_img(img):\n",
    "    in_mem_file = BytesIO()\n",
    "    img.save(in_mem_file, format = \"PNG\")\n",
    "    in_mem_file.seek(0)\n",
    "    img_bytes = in_mem_file.read()\n",
    "    base64_encoded_result_bytes = base64.b64encode(img_bytes)\n",
    "    base64_encoded_result_str = base64_encoded_result_bytes.decode('ascii')\n",
    "    return base64_encoded_result_str\n",
    "\n",
    "def convert_page_to_dict(page_obj):\n",
    "    page = {}\n",
    "    page['width'] = page_obj.width\n",
    "    page['height'] = page_obj.height\n",
    "    page['image'] = b64_img(page_obj.image)\n",
    "\n",
    "    page['lines'] = []\n",
    "    for line in page_obj.lines:\n",
    "        page['lines'].append(\n",
    "            {\n",
    "                'height': line.height, 'width': line.width,\n",
    "                'left': line.left, 'top': line.top, 'text': str(line)\n",
    "            }\n",
    "        )\n",
    "    return page\n",
    "\n",
    "def get_docs():\n",
    "    w2_sample_dir = os.path.join('../data', 'sample', 'w2')\n",
    "    data_dir = os.path.join(w2_sample_dir, 'single_clean')\n",
    "    label_path = os.path.join(w2_sample_dir, 'single_label.csv')\n",
    "    return Dataloader(data_dir, label_path)\n",
    "dl = get_docs()"
   ]
  },
  {
   "cell_type": "code",
   "execution_count": null,
   "metadata": {
    "scrolled": true
   },
   "outputs": [],
   "source": [
    "label_page = dl.get_document(0).pages[0]\n",
    "ocr_visualizer = hyperwidget.OCRVisualizer(\n",
    "    page=convert_page_to_dict(label_page),\n",
    "    layout=Layout(overflow_x='auto')\n",
    ")"
   ]
  },
  {
   "cell_type": "code",
   "execution_count": null,
   "metadata": {
    "scrolled": false
   },
   "outputs": [],
   "source": [
    "ocr_visualizer"
   ]
  },
  {
   "cell_type": "code",
   "execution_count": null,
   "metadata": {
    "scrolled": true
   },
   "outputs": [],
   "source": [
    "print(\"Chosen Lines: \", [label_page.lines[i] for i in ocr_visualizer.line_idxs])\n",
    "query = generate_query(label_page.lines[ocr_visualizer.line_idxs[0]], label_page)\n",
    "print(\"Generated Query: \", query)"
   ]
  },
  {
   "cell_type": "code",
   "execution_count": null,
   "metadata": {},
   "outputs": [],
   "source": [
    "extract_fields(dl.get_document(0), [query])"
   ]
  },
  {
   "cell_type": "code",
   "execution_count": null,
   "metadata": {},
   "outputs": [],
   "source": [
    "label_page"
   ]
  },
  {
   "cell_type": "code",
   "execution_count": null,
   "metadata": {},
   "outputs": [],
   "source": []
  }
 ],
 "metadata": {
  "kernelspec": {
   "display_name": "Python 3",
   "language": "python",
   "name": "python3"
  },
  "language_info": {
   "codemirror_mode": {
    "name": "ipython",
    "version": 3
   },
   "file_extension": ".py",
   "mimetype": "text/x-python",
   "name": "python",
   "nbconvert_exporter": "python",
   "pygments_lexer": "ipython3",
   "version": "3.7.8"
  }
 },
 "nbformat": 4,
 "nbformat_minor": 4
}
