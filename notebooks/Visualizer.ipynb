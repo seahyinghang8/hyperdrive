{
 "cells": [
  {
   "cell_type": "code",
   "execution_count": 1,
   "metadata": {
    "scrolled": true
   },
   "outputs": [],
   "source": [
    "import sys\n",
    "import os\n",
    "import importlib\n",
    "sys.path.append('..')\n",
    "\n",
    "import utils\n",
    "from utils.dataloader import Dataloader\n",
    "from utils.extract import extract_fields\n",
    "from utils.rule_gen import generate_query\n",
    "from utils.evaluator import evaluate_output\n",
    "from utils.helpers import extracted_fields_serialized\n",
    "\n",
    "import spacy\n",
    "from iterextras import par_for\n",
    "\n",
    "from ipywidgets import Layout\n",
    "import hyperwidget"
   ]
  },
  {
   "cell_type": "code",
   "execution_count": 2,
   "metadata": {
    "scrolled": true
   },
   "outputs": [],
   "source": [
    "def get_dataloader():\n",
    "    w2_sample_dir = os.path.join('../data', 'sample', 'w2')\n",
    "    data_dir = os.path.join(w2_sample_dir, 'multi')\n",
    "    label_path = os.path.join(w2_sample_dir, 'multi_label.csv')\n",
    "    return Dataloader(data_dir, label_path, concatenate_pages=True, cache_to_disk=True)\n",
    "\n",
    "dl = get_dataloader()"
   ]
  },
  {
   "cell_type": "code",
   "execution_count": 3,
   "metadata": {},
   "outputs": [],
   "source": [
    "field_queries = [\n",
    "    {   # Field 1\n",
    "        \"name\": \"EIN\",\n",
    "        \"arguments\": {\n",
    "            \"x-position\": 0.1,\n",
    "            \"y-position\": 0.1,\n",
    "            \"entity\": \"EIN\",\n",
    "            \"word-neighbors\": [\"Employer Identification Number\"],\n",
    "            \"word-neighbor-max-top-dist\": 100,\n",
    "            \"word-neighbor-max-left-dist\": 100,\n",
    "            \"word-neighbor-max-bottom-dist\": 0,\n",
    "            \"word-neighbor-max-right-dist\": 0,\n",
    "        },\n",
    "        \"weights\": {\n",
    "            \"x-position\": 0.25,\n",
    "            \"y-position\": 0.25,\n",
    "            \"entity\": 0.25,\n",
    "            \"word-neighbors\": 0.25,\n",
    "        }\n",
    "    },\n",
    "    {   # Field 2\n",
    "        \"name\": \"Medicare Tax Withheld\",\n",
    "        \"arguments\": {\n",
    "            \"x-position\": 0.9,\n",
    "            \"y-position\": 0.1,\n",
    "            \"entity\": \"CARDINAL\",\n",
    "            \"word-neighbors\": [\"Medicare Tax Withheld\"],\n",
    "            \"word-neighbor-max-top-dist\": 100,\n",
    "            \"word-neighbor-max-left-dist\": 100,\n",
    "            \"word-neighbor-max-bottom-dist\": 0,\n",
    "            \"word-neighbor-max-right-dist\": 0,\n",
    "        },\n",
    "        \"weights\": {\n",
    "            \"x-position\": 0.25,\n",
    "            \"y-position\": 0.25,\n",
    "            \"entity\": 0.25,\n",
    "            \"word-neighbors\": 0.25,\n",
    "        }\n",
    "    }\n",
    "]"
   ]
  },
  {
   "cell_type": "code",
   "execution_count": 4,
   "metadata": {},
   "outputs": [
    {
     "data": {
      "application/vnd.jupyter.widget-view+json": {
       "model_id": "a67abf53a5e04fef96c3151d99d548c4",
       "version_major": 2,
       "version_minor": 0
      },
      "text/plain": [
       "HBox(children=(HTML(value=''), FloatProgress(value=0.0, max=8.0), HTML(value='')))"
      ]
     },
     "metadata": {},
     "output_type": "display_data"
    },
    {
     "name": "stdout",
     "output_type": "stream",
     "text": [
      "\n"
     ]
    }
   ],
   "source": [
    "num_docs = len(dl)\n",
    "nlp = spacy.load(\"en_core_web_sm\")\n",
    "extracted_fields = par_for(\n",
    "    lambda i:  extract_fields(dl.get_document(i), field_queries, 1000, nlp),\n",
    "    list(range(num_docs)),\n",
    "    workers=2,\n",
    ")\n",
    "labels = [dl.get_label(i) for i in range(num_docs)]"
   ]
  },
  {
   "cell_type": "code",
   "execution_count": 5,
   "metadata": {},
   "outputs": [
    {
     "name": "stdout",
     "output_type": "stream",
     "text": [
      "Field: EIN\tAccuracy: 1.0\n",
      "Field: Medicare Tax Withheld\tAccuracy: 1.0\n"
     ]
    }
   ],
   "source": [
    "errors = evaluate_output(extracted_fields, labels, ['EIN', 'Medicare Tax Withheld'])"
   ]
  },
  {
   "cell_type": "code",
   "execution_count": 6,
   "metadata": {},
   "outputs": [],
   "source": [
    "error_table = hyperwidget.ErrorTable(\n",
    "    errors = errors\n",
    ")"
   ]
  },
  {
   "cell_type": "code",
   "execution_count": 7,
   "metadata": {},
   "outputs": [],
   "source": [
    "extraction_heatmap = hyperwidget.ExtractionHeatmap(\n",
    "    documents=[dl.get_document(i).as_dict_with_images() for i in range(num_docs)],\n",
    "    labels=[dl.get_label(i) for i in range(num_docs)],\n",
    "    extracted_fields=extracted_fields_serialized(extracted_fields)\n",
    ")"
   ]
  },
  {
   "cell_type": "code",
   "execution_count": 8,
   "metadata": {},
   "outputs": [
    {
     "data": {
      "application/vnd.jupyter.widget-view+json": {
       "model_id": "ed160bd7ef7a44c699f5968a69f05d5b",
       "version_major": 2,
       "version_minor": 0
      },
      "text/plain": [
       "ErrorTable(errors={'EIN': [], 'Medicare Tax Withheld': []})"
      ]
     },
     "metadata": {},
     "output_type": "display_data"
    }
   ],
   "source": [
    "error_table"
   ]
  },
  {
   "cell_type": "code",
   "execution_count": 9,
   "metadata": {
    "scrolled": true
   },
   "outputs": [
    {
     "data": {
      "application/vnd.jupyter.widget-view+json": {
       "model_id": "976281518ae640f4a85382bc5563eb3d",
       "version_major": 2,
       "version_minor": 0
      },
      "text/plain": [
       "ExtractionHeatmap(documents=[{'path': '../data/sample/w2/multi/W2_Multi_Sample_Data_input_ADP1_15541.pdf', 'pa…"
      ]
     },
     "metadata": {},
     "output_type": "display_data"
    }
   ],
   "source": [
    "extraction_heatmap"
   ]
  },
  {
   "cell_type": "code",
   "execution_count": 10,
   "metadata": {
    "scrolled": true
   },
   "outputs": [],
   "source": [
    "ocr_visualizer = hyperwidget.OCRVisualizer(\n",
    "    document=dl.get_document(4).as_dict_with_images()\n",
    ")"
   ]
  },
  {
   "cell_type": "code",
   "execution_count": 11,
   "metadata": {
    "scrolled": false
   },
   "outputs": [
    {
     "data": {
      "application/vnd.jupyter.widget-view+json": {
       "model_id": "44a2e75a1f1f45ff9dbc74dffa90d1db",
       "version_major": 2,
       "version_minor": 0
      },
      "text/plain": [
       "OCRVisualizer(document={'path': '../data/sample/w2/multi/W2_Multi_Sample_Data_input_ADP2_20859.pdf', 'pages': …"
      ]
     },
     "metadata": {},
     "output_type": "display_data"
    }
   ],
   "source": [
    "ocr_visualizer"
   ]
  },
  {
   "cell_type": "code",
   "execution_count": 12,
   "metadata": {
    "scrolled": true
   },
   "outputs": [
    {
     "name": "stdout",
     "output_type": "stream",
     "text": [
      "Chosen Lines:  []\n"
     ]
    },
    {
     "ename": "IndexError",
     "evalue": "list index out of range",
     "output_type": "error",
     "traceback": [
      "\u001b[0;31m---------------------------------------------------------------------------\u001b[0m",
      "\u001b[0;31mIndexError\u001b[0m                                Traceback (most recent call last)",
      "\u001b[0;32m<ipython-input-12-201cce480eef>\u001b[0m in \u001b[0;36m<module>\u001b[0;34m\u001b[0m\n\u001b[1;32m      1\u001b[0m \u001b[0mlabel_page\u001b[0m \u001b[0;34m=\u001b[0m \u001b[0mdl\u001b[0m\u001b[0;34m.\u001b[0m\u001b[0mget_document\u001b[0m\u001b[0;34m(\u001b[0m\u001b[0;36m0\u001b[0m\u001b[0;34m)\u001b[0m\u001b[0;34m.\u001b[0m\u001b[0mpages\u001b[0m\u001b[0;34m[\u001b[0m\u001b[0;36m0\u001b[0m\u001b[0;34m]\u001b[0m\u001b[0;34m\u001b[0m\u001b[0;34m\u001b[0m\u001b[0m\n\u001b[1;32m      2\u001b[0m \u001b[0mprint\u001b[0m\u001b[0;34m(\u001b[0m\u001b[0;34m\"Chosen Lines: \"\u001b[0m\u001b[0;34m,\u001b[0m \u001b[0;34m[\u001b[0m\u001b[0mlabel_page\u001b[0m\u001b[0;34m.\u001b[0m\u001b[0mlines\u001b[0m\u001b[0;34m[\u001b[0m\u001b[0mi\u001b[0m\u001b[0;34m]\u001b[0m \u001b[0;32mfor\u001b[0m \u001b[0mi\u001b[0m \u001b[0;32min\u001b[0m \u001b[0mocr_visualizer\u001b[0m\u001b[0;34m.\u001b[0m\u001b[0mselected_lines\u001b[0m\u001b[0;34m]\u001b[0m\u001b[0;34m)\u001b[0m\u001b[0;34m\u001b[0m\u001b[0;34m\u001b[0m\u001b[0m\n\u001b[0;32m----> 3\u001b[0;31m \u001b[0mquery\u001b[0m \u001b[0;34m=\u001b[0m \u001b[0mgenerate_query\u001b[0m\u001b[0;34m(\u001b[0m\u001b[0;34m\"Control number\"\u001b[0m\u001b[0;34m,\u001b[0m \u001b[0;34m[\u001b[0m\u001b[0mlabel_page\u001b[0m\u001b[0;34m.\u001b[0m\u001b[0mlines\u001b[0m\u001b[0;34m[\u001b[0m\u001b[0mocr_visualizer\u001b[0m\u001b[0;34m.\u001b[0m\u001b[0mselected_lines\u001b[0m\u001b[0;34m[\u001b[0m\u001b[0;36m0\u001b[0m\u001b[0;34m]\u001b[0m\u001b[0;34m]\u001b[0m\u001b[0;34m]\u001b[0m\u001b[0;34m,\u001b[0m \u001b[0;34m[\u001b[0m\u001b[0mlabel_page\u001b[0m\u001b[0;34m]\u001b[0m\u001b[0;34m)\u001b[0m\u001b[0;34m\u001b[0m\u001b[0;34m\u001b[0m\u001b[0m\n\u001b[0m\u001b[1;32m      4\u001b[0m \u001b[0mprint\u001b[0m\u001b[0;34m(\u001b[0m\u001b[0;34m\"Generated Query: \"\u001b[0m\u001b[0;34m,\u001b[0m \u001b[0mquery\u001b[0m\u001b[0;34m)\u001b[0m\u001b[0;34m\u001b[0m\u001b[0;34m\u001b[0m\u001b[0m\n",
      "\u001b[0;31mIndexError\u001b[0m: list index out of range"
     ]
    }
   ],
   "source": [
    "label_page = dl.get_document(0).pages[0]\n",
    "print(\"Chosen Lines: \", [label_page.lines[i] for i in ocr_visualizer.selected_lines])\n",
    "query = generate_query(\"Control number\", [label_page.lines[ocr_visualizer.selected_lines[0]]], [label_page])\n",
    "print(\"Generated Query: \", query)"
   ]
  },
  {
   "cell_type": "code",
   "execution_count": null,
   "metadata": {},
   "outputs": [],
   "source": [
    "documents = [dl.get_document(i) for i in range(5)]\n",
    "documents_dict = [d.as_dict_with_images() for d in documents]\n",
    "pages = [d.pages[0] for d in documents]\n",
    "multidoc_gen = hyperwidget.MultiDocGen(\n",
    "    documents=documents_dict\n",
    ")"
   ]
  },
  {
   "cell_type": "code",
   "execution_count": null,
   "metadata": {},
   "outputs": [],
   "source": [
    "multidoc_gen"
   ]
  },
  {
   "cell_type": "code",
   "execution_count": null,
   "metadata": {},
   "outputs": [],
   "source": [
    "labeled_pages, labeled_lines = [], []\n",
    "for doc in multidoc_gen.selected_lines:\n",
    "    doc_idx = int(doc)\n",
    "    labeled_pages.append(pages[doc_idx])\n",
    "    labeled_lines.append(pages[doc_idx].lines[multidoc_gen.selected_lines[doc][0]])\n",
    "query = generate_query(\"Control number\", labeled_lines, labeled_pages)"
   ]
  },
  {
   "cell_type": "code",
   "execution_count": null,
   "metadata": {},
   "outputs": [],
   "source": [
    "query"
   ]
  },
  {
   "cell_type": "code",
   "execution_count": null,
   "metadata": {},
   "outputs": [],
   "source": []
  },
  {
   "cell_type": "code",
   "execution_count": null,
   "metadata": {},
   "outputs": [],
   "source": []
  },
  {
   "cell_type": "code",
   "execution_count": null,
   "metadata": {},
   "outputs": [],
   "source": []
  },
  {
   "cell_type": "code",
   "execution_count": null,
   "metadata": {},
   "outputs": [],
   "source": []
  },
  {
   "cell_type": "code",
   "execution_count": null,
   "metadata": {},
   "outputs": [],
   "source": []
  },
  {
   "cell_type": "code",
   "execution_count": null,
   "metadata": {},
   "outputs": [],
   "source": []
  }
 ],
 "metadata": {
  "kernelspec": {
   "display_name": "Python 3",
   "language": "python",
   "name": "python3"
  },
  "language_info": {
   "codemirror_mode": {
    "name": "ipython",
    "version": 3
   },
   "file_extension": ".py",
   "mimetype": "text/x-python",
   "name": "python",
   "nbconvert_exporter": "python",
   "pygments_lexer": "ipython3",
   "version": "3.7.3"
  }
 },
 "nbformat": 4,
 "nbformat_minor": 4
}
