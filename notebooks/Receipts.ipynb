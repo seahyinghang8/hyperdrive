{
 "cells": [
  {
   "cell_type": "code",
   "execution_count": 1,
   "metadata": {
    "scrolled": true
   },
   "outputs": [],
   "source": [
    "import sys\n",
    "import os\n",
    "import importlib\n",
    "sys.path.append('..')\n",
    "\n",
    "import utils\n",
    "from utils.dataloader import Dataloader\n",
    "from utils.extract import extract_fields\n",
    "from utils.rule_gen import generate_query\n",
    "from utils.evaluator import evaluate_output\n",
    "\n",
    "from ipywidgets import Layout\n",
    "import hyperwidget"
   ]
  },
  {
   "cell_type": "code",
   "execution_count": 2,
   "metadata": {
    "scrolled": true
   },
   "outputs": [],
   "source": [
    "def get_dataloader():\n",
    "    w2_sample_dir = os.path.join('../data', 'sample', 'receipt')\n",
    "    data_dir = os.path.join(w2_sample_dir, 'image')\n",
    "    label_path = os.path.join(w2_sample_dir, 'label.csv')\n",
    "    return Dataloader(data_dir, label_path)\n",
    "\n",
    "dl = get_dataloader()"
   ]
  },
  {
   "cell_type": "code",
   "execution_count": 15,
   "metadata": {},
   "outputs": [],
   "source": [
    "field_queries = [\n",
    "    {   # Generated query 1\n",
    "        'name': 'total',\n",
    "        'arguments': {\n",
    "            'x-position': 0.6506024096385542,\n",
    "            'y-position': 0.5963172804532578,\n",
    "            'entity': 'CARDINAL',\n",
    "            'word-neighbors': ['Total', 'Payable'],\n",
    "            'word-neighbor-top-thres': 0.05,\n",
    "            'word-neighbor-left-thres': 0.1\n",
    "        }, \n",
    "        'weights': {\n",
    "            'x-position': 0.25,\n",
    "            'y-position': 0.25,\n",
    "            'entity': 0.25,\n",
    "            'word-neighbors': 0.25\n",
    "        }\n",
    "    },\n",
    "    {   # Manual address\n",
    "        \"name\": \"address\",\n",
    "        \"arguments\": {\n",
    "            \"x-position\": 0.5,\n",
    "            \"y-position\": 0.2,\n",
    "            \"entity\": \"GPE\",\n",
    "            \"word-neighbors\": [\"Tel\"],\n",
    "            \"word-neighbor-top-thres\": 0.05,\n",
    "            \"word-neighbor-left-thres\": 0.1,\n",
    "        },\n",
    "        \"weights\": {\n",
    "            \"x-position\": 0.25,\n",
    "            \"y-position\": 0.25,\n",
    "            \"entity\": 0.25,\n",
    "            \"word-neighbors\": 0.25,\n",
    "        }\n",
    "    }\n",
    "]"
   ]
  },
  {
   "cell_type": "code",
   "execution_count": 9,
   "metadata": {},
   "outputs": [],
   "source": [
    "k = 20\n",
    "num_docs = len(dl)\n",
    "\n",
    "extracted_fields = [\n",
    "    extract_fields(dl.get_document(i), field_queries, k)\n",
    "    for i in range(num_docs)\n",
    "]\n",
    "labels = [dl.get_label(i) for i in range(num_docs)]"
   ]
  },
  {
   "cell_type": "code",
   "execution_count": 10,
   "metadata": {},
   "outputs": [
    {
     "name": "stdout",
     "output_type": "stream",
     "text": [
      "Field: total\tAccuracy: 0.18181818181818177\n",
      "Field: address\tAccuracy: 0.0\n"
     ]
    }
   ],
   "source": [
    "errors = evaluate_output(extracted_fields, labels, ['total', 'address'])"
   ]
  },
  {
   "cell_type": "code",
   "execution_count": 11,
   "metadata": {},
   "outputs": [],
   "source": [
    "error_table = hyperwidget.ErrorTable(\n",
    "    errors = errors\n",
    ")"
   ]
  },
  {
   "cell_type": "code",
   "execution_count": 12,
   "metadata": {},
   "outputs": [],
   "source": [
    "pages = [dl.get_document(i).pages[0].as_dict() for i in range(num_docs)]\n",
    "labels = [dl.get_label(i) for i in range(num_docs)]\n",
    "extracted_fields_serializable = [\n",
    "    {\n",
    "        k: [f.as_dict() for f in fl]\n",
    "        for (k, fl)in fd.items()\n",
    "    }\n",
    "    for fd in extracted_fields\n",
    "]\n",
    "\n",
    "extraction_heatmap = hyperwidget.ExtractionHeatmap(\n",
    "    pages=pages,\n",
    "    labels=labels,\n",
    "    extracted_fields=extracted_fields_serializable\n",
    ")"
   ]
  },
  {
   "cell_type": "code",
   "execution_count": 13,
   "metadata": {},
   "outputs": [
    {
     "data": {
      "application/vnd.jupyter.widget-view+json": {
       "model_id": "45a03d1e9071496e983a3a940682fe66",
       "version_major": 2,
       "version_minor": 0
      },
      "text/plain": [
       "ErrorTable(errors={'total': [(0, '45.90', '15.90'), (1, 'Total @% supplies: — 30.23', '48.04'), (2, '233 = zo …"
      ]
     },
     "metadata": {},
     "output_type": "display_data"
    }
   ],
   "source": [
    "error_table"
   ]
  },
  {
   "cell_type": "code",
   "execution_count": 14,
   "metadata": {},
   "outputs": [
    {
     "data": {
      "application/vnd.jupyter.widget-view+json": {
       "model_id": "a005c218e3384a928698f4f23649e062",
       "version_major": 2,
       "version_minor": 0
      },
      "text/plain": [
       "ExtractionHeatmap(extracted_fields=[{'total': [{'line': {'height': 33, 'width': 78, 'left': 447, 'top': 826, '…"
      ]
     },
     "metadata": {},
     "output_type": "display_data"
    }
   ],
   "source": [
    "extraction_heatmap"
   ]
  },
  {
   "cell_type": "code",
   "execution_count": 4,
   "metadata": {
    "scrolled": true
   },
   "outputs": [],
   "source": [
    "ocr_visualizer = hyperwidget.OCRVisualizer(\n",
    "    page=dl.get_document(0).pages[0].as_dict()\n",
    ")"
   ]
  },
  {
   "cell_type": "code",
   "execution_count": 5,
   "metadata": {
    "scrolled": false
   },
   "outputs": [
    {
     "data": {
      "application/vnd.jupyter.widget-view+json": {
       "model_id": "5866e99b06ca45fe9e683af87175c73a",
       "version_major": 2,
       "version_minor": 0
      },
      "text/plain": [
       "OCRVisualizer(page={'width': 747, 'height': 1412, 'b64_image': 'iVBORw0KGgoAAAANSUhEUgAAAusAAAWECAIAAAD0nt1rAA…"
      ]
     },
     "metadata": {},
     "output_type": "display_data"
    }
   ],
   "source": [
    "ocr_visualizer"
   ]
  },
  {
   "cell_type": "code",
   "execution_count": 7,
   "metadata": {
    "scrolled": true
   },
   "outputs": [
    {
     "name": "stdout",
     "output_type": "stream",
     "text": [
      "Chosen Lines:  [line(45.90)]\n",
      "Generated Query:  {'name': 'total', 'arguments': {'x-position': 0.6506024096385542, 'y-position': 0.5963172804532578, 'entity': 'CARDINAL', 'word-neighbors': ['§0.00', '15.90'], 'word-neighbor-top-thres': 0.05, 'word-neighbor-left-thres': 0.1}, 'weights': {'x-position': 0.25, 'y-position': 0.25, 'entity': 0.25, 'word-neighbors': 0.25}}\n"
     ]
    }
   ],
   "source": [
    "print(\"Chosen Lines: \", [dl.get_document(0).pages[0].lines[i] for i in ocr_visualizer.line_idxs])\n",
    "query = generate_query(\"total\", dl.get_document(0).pages[0].lines[ocr_visualizer.line_idxs[0]], dl.get_document(0).pages[0])\n",
    "print(\"Generated Query: \", query)"
   ]
  },
  {
   "cell_type": "code",
   "execution_count": null,
   "metadata": {},
   "outputs": [],
   "source": []
  }
 ],
 "metadata": {
  "kernelspec": {
   "display_name": "Python 3",
   "language": "python",
   "name": "python3"
  },
  "language_info": {
   "codemirror_mode": {
    "name": "ipython",
    "version": 3
   },
   "file_extension": ".py",
   "mimetype": "text/x-python",
   "name": "python",
   "nbconvert_exporter": "python",
   "pygments_lexer": "ipython3",
   "version": "3.7.8"
  }
 },
 "nbformat": 4,
 "nbformat_minor": 4
}
